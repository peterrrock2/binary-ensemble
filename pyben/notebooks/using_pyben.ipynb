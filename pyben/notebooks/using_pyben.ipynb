{
 "cells": [
  {
   "cell_type": "markdown",
   "id": "c7a7778b",
   "metadata": {},
   "source": [
    "# An Introduction to Using PyBEN\n",
    "\n",
    "This is a small tutorial file that is meant to help users get to using PyBEN: the python interface\n",
    "for the [binary-ensemble](https://crates.io/binary-ensemble) Rust package."
   ]
  },
  {
   "cell_type": "markdown",
   "id": "3fea1b6a",
   "metadata": {},
   "source": [
    "### Things go here"
   ]
  },
  {
   "cell_type": "markdown",
   "id": "7beea423",
   "metadata": {},
   "source": [
    "My goal for right now is to see if the interface is intuitive and to see how well my \n",
    "development scripts are working and how much the documentation strings tell you. So.. "
   ]
  }
 ],
 "metadata": {
  "kernelspec": {
   "display_name": "pyben",
   "language": "python",
   "name": "python3"
  },
  "language_info": {
   "name": "python",
   "version": "3.13.3"
  }
 },
 "nbformat": 4,
 "nbformat_minor": 5
}
