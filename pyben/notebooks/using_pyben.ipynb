{
 "cells": [
  {
   "cell_type": "markdown",
   "id": "c7a7778b",
   "metadata": {},
   "source": [
    "# An Introduction to Using PyBEN\n",
    "\n",
    "This is a small tutorial file that is meant to help users get to using PyBEN: the python interface\n",
    "for the [binary-ensemble](https://crates.io/binary-ensemble) Rust package."
   ]
  },
  {
   "cell_type": "markdown",
   "id": "3fea1b6a",
   "metadata": {},
   "source": [
    "### Things go here"
   ]
  },
  {
   "cell_type": "markdown",
   "id": "7beea423",
   "metadata": {},
   "source": [
    "My goal for right now is to see if the interface is intuitive and to see how well my \n",
    "development scripts are working and how much the documentation strings tell you. So.. "
   ]
  },
  {
   "cell_type": "code",
   "execution_count": 1,
   "id": "4f355741",
   "metadata": {},
   "outputs": [
    {
     "name": "stdout",
     "output_type": "stream",
     "text": [
      "\u001b[2mUsing Python 3.13.3 environment at: /mnt/efs/h/Dropbox/MADLAB/Git_Repos/peter/binary-ensemble-pyben/pyben/.venv\u001b[0m\n",
      "\u001b[2mAudited \u001b[1m1 package\u001b[0m \u001b[2min 0.49ms\u001b[0m\u001b[0m\n"
     ]
    }
   ],
   "source": [
    "!uv pip install tqdm"
   ]
  },
  {
   "cell_type": "code",
   "execution_count": 2,
   "id": "ad9209e4",
   "metadata": {},
   "outputs": [],
   "source": [
    "from pyben import PyBenDecoder, PyBenEncoder, compress_jsonl_to_ben, compress_ben_to_xben, compress_jsonl_to_xben, decompress_ben_to_jsonl, decompress_xben_to_jsonl, decompress_xben_to_ben\n",
    "\n",
    "import urllib \n",
    "from tqdm import tqdm"
   ]
  },
  {
   "cell_type": "code",
   "execution_count": 3,
   "id": "6276361b",
   "metadata": {},
   "outputs": [
    {
     "name": "stderr",
     "output_type": "stream",
     "text": [
      "100%|██████████| 3/3 [00:00<00:00, 33.36it/s]"
     ]
    },
    {
     "name": "stdout",
     "output_type": "stream",
     "text": [
      "[8, 8, 5, 4, 5, 5, 5, 5, 3, 3]\n",
      "[5, 5, 1, 8, 4, 4, 1, 1, 8, 8]\n",
      "[4, 4, 8, 1, 8, 8, 8, 3, 7, 7]\n"
     ]
    },
    {
     "name": "stderr",
     "output_type": "stream",
     "text": [
      "\n"
     ]
    }
   ],
   "source": [
    "for sample in tqdm(PyBenDecoder(\"./example_data/100k_CO_chain.jsonl.ben\").subsample_indices([1, 20_000, 80_000])):\n",
    "    print(sample[:10])"
   ]
  },
  {
   "cell_type": "code",
   "execution_count": 4,
   "id": "4c64ecb0",
   "metadata": {},
   "outputs": [
    {
     "name": "stderr",
     "output_type": "stream",
     "text": [
      "100%|██████████| 101/101 [00:00<00:00, 541.51it/s]\n"
     ]
    }
   ],
   "source": [
    "for sample in tqdm(PyBenDecoder(\"./example_data/100k_CO_chain.jsonl.ben\").subsample_every(1000)):\n",
    "    pass\n",
    "    # print(sample[:10])"
   ]
  },
  {
   "cell_type": "code",
   "execution_count": null,
   "id": "7e87352c",
   "metadata": {},
   "outputs": [],
   "source": []
  },
  {
   "cell_type": "code",
   "execution_count": 9,
   "id": "26f6691f",
   "metadata": {},
   "outputs": [
    {
     "name": "stderr",
     "output_type": "stream",
     "text": [
      "pyben:-1: UserWarning: XBEN may take a second to start decoding.\n",
      "/tmp/ipykernel_1244964/3729076539.py:1: UserWarning: XBEN may take a second to start decoding.\n",
      "  for sample in tqdm(PyBenDecoder(\"./example_data/100k_CO_chain.jsonl.xben\", mode=\"xben\")):\n",
      " 32%|███▏      | 31877/100002 [00:21<00:45, 1509.56it/s]\n"
     ]
    },
    {
     "ename": "KeyboardInterrupt",
     "evalue": "",
     "output_type": "error",
     "traceback": [
      "\u001b[31m---------------------------------------------------------------------------\u001b[39m",
      "\u001b[31mKeyboardInterrupt\u001b[39m                         Traceback (most recent call last)",
      "\u001b[36mCell\u001b[39m\u001b[36m \u001b[39m\u001b[32mIn[9]\u001b[39m\u001b[32m, line 2\u001b[39m\n\u001b[32m      1\u001b[39m \u001b[38;5;28;01mfor\u001b[39;00m sample \u001b[38;5;129;01min\u001b[39;00m tqdm(PyBenDecoder(\u001b[33m\"\u001b[39m\u001b[33m./example_data/100k_CO_chain.jsonl.xben\u001b[39m\u001b[33m\"\u001b[39m, mode=\u001b[33m\"\u001b[39m\u001b[33mxben\u001b[39m\u001b[33m\"\u001b[39m)):\n\u001b[32m----> \u001b[39m\u001b[32m2\u001b[39m     \u001b[38;5;28;01mpass\u001b[39;00m\n",
      "\u001b[31mKeyboardInterrupt\u001b[39m: "
     ]
    }
   ],
   "source": [
    "for sample in tqdm(PyBenDecoder(\"./example_data/100k_CO_chain.jsonl.xben\", mode=\"xben\")):\n",
    "    pass"
   ]
  },
  {
   "cell_type": "code",
   "execution_count": null,
   "id": "cc837ade",
   "metadata": {},
   "outputs": [
    {
     "ename": "OSError",
     "evalue": "Failed to open ./example_data/100k_CO_chain.jsonl.be: No such file or directory (os error 2)",
     "output_type": "error",
     "traceback": [
      "\u001b[31m---------------------------------------------------------------------------\u001b[39m",
      "\u001b[31mOSError\u001b[39m                                   Traceback (most recent call last)",
      "\u001b[36mCell\u001b[39m\u001b[36m \u001b[39m\u001b[32mIn[12]\u001b[39m\u001b[32m, line 1\u001b[39m\n\u001b[32m----> \u001b[39m\u001b[32m1\u001b[39m \u001b[38;5;28;01mfor\u001b[39;00m sample \u001b[38;5;129;01min\u001b[39;00m tqdm(\u001b[43mPyBenDecoder\u001b[49m\u001b[43m(\u001b[49m\u001b[33;43m\"\u001b[39;49m\u001b[33;43m./example_data/100k_CO_chain.jsonl.be\u001b[39;49m\u001b[33;43m\"\u001b[39;49m\u001b[43m)\u001b[49m):\n\u001b[32m      2\u001b[39m     \u001b[38;5;28;01mpass\u001b[39;00m\n",
      "\u001b[31mOSError\u001b[39m: Failed to open ./example_data/100k_CO_chain.jsonl.be: No such file or directory (os error 2)"
     ]
    }
   ],
   "source": [
    "for sample in tqdm(PyBenDecoder(\"./example_data/100k_CO_chain.jsonl.ben\")):\n",
    "    pass"
   ]
  },
  {
   "cell_type": "code",
   "execution_count": 6,
   "id": "8d553f2b",
   "metadata": {},
   "outputs": [
    {
     "name": "stderr",
     "output_type": "stream",
     "text": [
      "100%|██████████| 6/6 [00:00<00:00, 67.97it/s]"
     ]
    },
    {
     "name": "stdout",
     "output_type": "stream",
     "text": [
      "[4, 4, 8, 1, 8, 8, 8, 3, 7, 7]\n",
      "[4, 4, 8, 1, 8, 8, 8, 3, 7, 7]\n",
      "[4, 4, 8, 1, 8, 8, 8, 3, 7, 7]\n",
      "[4, 4, 1, 1, 1, 1, 1, 3, 7, 7]\n",
      "[4, 4, 1, 1, 1, 1, 1, 3, 7, 7]\n",
      "[4, 4, 1, 1, 1, 1, 1, 3, 8, 8]\n"
     ]
    },
    {
     "name": "stderr",
     "output_type": "stream",
     "text": [
      "\n"
     ]
    }
   ],
   "source": [
    "for sample in tqdm(PyBenDecoder(\"./example_data/100k_CO_chain.jsonl.ben\").subsample_range(80_000, 80_005)):\n",
    "    print(sample[:10])"
   ]
  },
  {
   "cell_type": "code",
   "execution_count": 7,
   "id": "6cdd08ce",
   "metadata": {},
   "outputs": [
    {
     "ename": "ModuleNotFoundError",
     "evalue": "No module named 'pyben.read'",
     "output_type": "error",
     "traceback": [
      "\u001b[31m---------------------------------------------------------------------------\u001b[39m",
      "\u001b[31mModuleNotFoundError\u001b[39m                       Traceback (most recent call last)",
      "\u001b[36mCell\u001b[39m\u001b[36m \u001b[39m\u001b[32mIn[7]\u001b[39m\u001b[32m, line 1\u001b[39m\n\u001b[32m----> \u001b[39m\u001b[32m1\u001b[39m \u001b[38;5;28;01mimport\u001b[39;00m\u001b[38;5;250m \u001b[39m\u001b[34;01mpyben\u001b[39;00m\u001b[34;01m.\u001b[39;00m\u001b[34;01mread\u001b[39;00m\u001b[38;5;250m \u001b[39m\u001b[38;5;28;01mas\u001b[39;00m\u001b[38;5;250m \u001b[39m\u001b[34;01mread\u001b[39;00m\n\u001b[32m      3\u001b[39m read.read_single_assignment(\u001b[33m\"\u001b[39m\u001b[33m./example_data/100k_CO_chain.jsonl.ben\u001b[39m\u001b[33m\"\u001b[39m, \u001b[32m100000\u001b[39m)\n",
      "\u001b[31mModuleNotFoundError\u001b[39m: No module named 'pyben.read'"
     ]
    }
   ],
   "source": [
    "import pyben.read as read\n",
    "\n",
    "read.read_single_assignment(\"./example_data/100k_CO_chain.jsonl.ben\", 100000)"
   ]
  },
  {
   "cell_type": "code",
   "execution_count": null,
   "id": "e4a55de7",
   "metadata": {},
   "outputs": [],
   "source": [
    "for i, sample in enumerate(PyBenDecoder(\"./example_data/100k_CO_chain.jsonl.xben\", mode=\"xben\")):\n",
    "    print(i+1, sample[:10])\n",
    "    if i > 5:\n",
    "        break"
   ]
  },
  {
   "cell_type": "code",
   "execution_count": null,
   "id": "eb43be57",
   "metadata": {},
   "outputs": [],
   "source": [
    "\n"
   ]
  }
 ],
 "metadata": {
  "kernelspec": {
   "display_name": "pyben",
   "language": "python",
   "name": "python3"
  },
  "language_info": {
   "codemirror_mode": {
    "name": "ipython",
    "version": 3
   },
   "file_extension": ".py",
   "mimetype": "text/x-python",
   "name": "python",
   "nbconvert_exporter": "python",
   "pygments_lexer": "ipython3",
   "version": "3.13.3"
  }
 },
 "nbformat": 4,
 "nbformat_minor": 5
}
