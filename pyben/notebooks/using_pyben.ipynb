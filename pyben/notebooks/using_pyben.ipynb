{
 "cells": [
  {
   "cell_type": "markdown",
   "id": "c7a7778b",
   "metadata": {},
   "source": [
    "# An Introduction to Using PyBEN\n",
    "\n",
    "This is a small tutorial file that is meant to help users get to using PyBEN: the python interface\n",
    "for the [binary-ensemble](https://crates.io/crates/binary-ensemble) Rust package.\n",
    "\n",
    "\n",
    "BEN (short for Binary-Ensemble) is a compression algorithm designed for efficient storage and\n",
    "access of ensembles of districting plans, and was designed to work primarily as a companion to\n",
    "to the GerrySuite collection of packages (GerryChain, GerryTools, FRCW) and to also be compatible\n",
    "with other ensemble generators (e.g. ForestRecom, Sequential Monte Carlo \\[SMC\\]). \n",
    "\n",
    "When working with an ensemble of plans, there is generally an underlying dual graph, $G$, and \n",
    "on which there is an ordering of nodes $(n_1, n_2, \\cdots, n_\\ell)$. If we then wish to \n",
    "partition the graph into, say, districts, then the only thing that we need to do is assign each\n",
    "node in a graph to a district number. This is what we call the ***assignment vector*** for the \n",
    "districting plan. Then to encode an ensemble of districting plans in a JSONL file (short for JSON \n",
    "Lines and it really just means a file with a dictionary on every line), we may format each of the\n",
    "lines in the following way:\n",
    "\n",
    "```json\n",
    "{\"assignment\": <assignment_vector>, \"sample\": <sample_number_indexed_from_1>}\n",
    "```\n",
    "\n",
    "However, if the graph has a lot of nodes in it and we want to collect millions of samples (as we \n",
    "tend to want to do), then this JSONL format can make for MASSIVE (tens or hundreds of Gb) files. So\n",
    "This is why we have BEN and XBEN (e\\[X\\]treme BEN): to make the storage and processing of these\n",
    "millions of plans possible without needing to buy an extra hard drive for every project that you \n",
    "would like to work with."
   ]
  },
  {
   "cell_type": "markdown",
   "id": "3fea1b6a",
   "metadata": {},
   "source": [
    "## Setup for the Tutorial\n",
    "\n",
    "For this tutorial, you will need access to a few files. We are going to go ahead and download\n",
    "them here and then place them in a folder called \"example_data\""
   ]
  },
  {
   "cell_type": "code",
   "execution_count": 17,
   "id": "1c33cbfb",
   "metadata": {},
   "outputs": [],
   "source": [
    "from urllib.request import urlopen\n",
    "from pathlib import Path\n",
    "\n",
    "Path(\"example_data\").mkdir(exist_ok=True)"
   ]
  },
  {
   "cell_type": "code",
   "execution_count": 23,
   "id": "f8a56fa7",
   "metadata": {},
   "outputs": [
    {
     "name": "stdout",
     "output_type": "stream",
     "text": [
      "100k_CO_chain.jsonl.xben already exists, skipping download.\n",
      "CO_small.json already exists, skipping download.\n",
      "small_example.jsonl already exists, skipping download.\n",
      "Downloading gerrymandria.json...\n"
     ]
    }
   ],
   "source": [
    "\n",
    "def open_and_save(base_url, file_name):\n",
    "    url = f\"{base_url}/{file_name}\"\n",
    "    out_path = f\"./example_data/{file_name}\"\n",
    "\n",
    "    chunk = 1024 * 64\n",
    "    with urlopen(url, timeout=30) as resp, open(out_path, \"wb\") as f:\n",
    "        while True:\n",
    "            buf = resp.read(chunk)\n",
    "            if not buf:\n",
    "                break\n",
    "            f.write(buf)\n",
    "\n",
    "url_base = \"https://raw.githubusercontent.com/peterrrock2/binary-ensemble/main/example\"\n",
    "for file_name in [\n",
    "    \"100k_CO_chain.jsonl.xben\",\n",
    "    \"CO_small.json\",\n",
    "    \"small_example.jsonl\",\n",
    "]:\n",
    "    out_path = f\"./example_data/{file_name}\"\n",
    "    if not Path(out_path).exists():\n",
    "        print(f\"Downloading {file_name}...\")\n",
    "        open_and_save(url_base, file_name)\n",
    "    else:\n",
    "        print(f\"{file_name} already exists, skipping download.\")\n",
    "\n",
    "\n",
    "\n",
    "url_base = \"https://raw.githubusercontent.com/mggg/GerryChain/refs/heads/main/docs/_static\"\n",
    "for file_name in [\n",
    "    \"gerrymandria.json\",\n",
    "]:\n",
    "    out_path = f\"./example_data/{file_name}\"\n",
    "    if not Path(out_path).exists():\n",
    "        print(f\"Downloading {file_name}...\")\n",
    "        open_and_save(url_base, file_name)\n",
    "    else:\n",
    "        print(f\"{file_name} already exists, skipping download.\")"
   ]
  },
  {
   "cell_type": "markdown",
   "id": "197dd92d",
   "metadata": {},
   "source": [
    "## Converting between file types\n",
    "\n",
    "PyBen comes equiped with some utility functions for users who wish to convert between different\n",
    "file types."
   ]
  },
  {
   "cell_type": "code",
   "execution_count": null,
   "id": "9296ca41",
   "metadata": {},
   "outputs": [],
   "source": [
    "from pyben import (\n",
    "    compress_jsonl_to_ben, compress_ben_to_xben, compress_jsonl_to_xben, decompress_ben_to_jsonl, decompress_xben_to_jsonl, decompress_xben_to_ben\n",
    ")\n",
    "\n"
   ]
  },
  {
   "cell_type": "markdown",
   "id": "84f7c7f6",
   "metadata": {},
   "source": [
    "### BEN compression\n",
    "\n",
    "The most basic and quickest type of compression available is the BEN compression format. You \n",
    "may convert between a standard JSONL file to a BEN file using the following function:\n"
   ]
  },
  {
   "cell_type": "code",
   "execution_count": null,
   "id": "1e1e32b0",
   "metadata": {},
   "outputs": [],
   "source": [
    "compress_jsonl_to_ben(\n",
    "    in_file=\"example_data/small_example.jsonl\", \n",
    "    out_file=\"example_data/small_example_jsonl_to_ben.jsonl.ben\",\n",
    ")"
   ]
  },
  {
   "cell_type": "markdown",
   "id": "60f4ff71",
   "metadata": {},
   "source": [
    "As a small note, the above function (and all the conversion functions) has a default behavior of \n",
    "not overwriting output. There is \n",
    "an optional \"overwrite\" parameter that can be set to `True`. In addition, there is a `variant`\n",
    "parameter with two options: \"standard\" and \"mkv_chain\". The \"mkv_chain\" variation is a special \n",
    "version of the compression is a special variation of BEN that is optimized for ensembles generated\n",
    "using a MCMC method with a non-zero rejection probability (so the generated maps may repeat a few \n",
    "times to target an appropriate probability distribution like in \n",
    "[Reversible ReCom](https://mggg.org/rrc))"
   ]
  },
  {
   "cell_type": "code",
   "execution_count": null,
   "id": "81b1f724",
   "metadata": {},
   "outputs": [],
   "source": [
    "compress_jsonl_to_xben(\n",
    "    in_file=\"example_data/small_example.jsonl\", \n",
    "    out_file=\"example_data/small_example_jsonl_to_xben.jsonl.xben\",\n",
    ")\n",
    "compress_ben_to_xben(\n",
    "    in_file=\"example_data/small_example_jsonl_to_ben.jsonl.ben\", \n",
    "    out_file=\"example_data/small_example_jsonl_to_ben_to_xben.jsonl.xben\",\n",
    ")"
   ]
  },
  {
   "cell_type": "code",
   "execution_count": null,
   "id": "eb43be57",
   "metadata": {},
   "outputs": [],
   "source": [
    "\n"
   ]
  }
 ],
 "metadata": {
  "kernelspec": {
   "display_name": "pyben",
   "language": "python",
   "name": "python3"
  },
  "language_info": {
   "codemirror_mode": {
    "name": "ipython",
    "version": 3
   },
   "file_extension": ".py",
   "mimetype": "text/x-python",
   "name": "python",
   "nbconvert_exporter": "python",
   "pygments_lexer": "ipython3",
   "version": "3.13.3"
  }
 },
 "nbformat": 4,
 "nbformat_minor": 5
}
